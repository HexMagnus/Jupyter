{
 "cells": [
  {
   "cell_type": "markdown",
   "id": "08da693c",
   "metadata": {},
   "source": [
    "Texto explicativo do que vou fazer no meu código"
   ]
  },
  {
   "cell_type": "code",
   "execution_count": 1,
   "id": "bb628e2e",
   "metadata": {
    "scrolled": true
   },
   "outputs": [
    {
     "name": "stdout",
     "output_type": "stream",
     "text": [
      "Lucas\n"
     ]
    }
   ],
   "source": [
    "print (\"Lucas\")\n",
    "print (\"Segunda linha de codigo\")"
   ]
  },
  {
   "cell_type": "code",
   "execution_count": 2,
   "id": "8b15db45",
   "metadata": {
    "scrolled": true
   },
   "outputs": [
    {
     "name": "stdout",
     "output_type": "stream",
     "text": [
      "Hastag Programação\n"
     ]
    }
   ],
   "source": [
    "print(\"Hastag Programação\")"
   ]
  },
  {
   "cell_type": "code",
   "execution_count": null,
   "id": "6a63f8fc",
   "metadata": {},
   "outputs": [],
   "source": []
  }
 ],
 "metadata": {
  "kernelspec": {
   "display_name": "Python 3 (ipykernel)",
   "language": "python",
   "name": "python3"
  },
  "language_info": {
   "codemirror_mode": {
    "name": "ipython",
    "version": 3
   },
   "file_extension": ".py",
   "mimetype": "text/x-python",
   "name": "python",
   "nbconvert_exporter": "python",
   "pygments_lexer": "ipython3",
   "version": "3.9.7"
  }
 },
 "nbformat": 4,
 "nbformat_minor": 5
}
