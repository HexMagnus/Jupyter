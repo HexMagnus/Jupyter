{
 "cells": [
  {
   "cell_type": "markdown",
   "id": "336f07d1",
   "metadata": {},
   "source": [
    "Texto explicativo do que vou fazer no meu código"
   ]
  },
  {
   "cell_type": "code",
   "execution_count": 1,
   "id": "26706352",
   "metadata": {},
   "outputs": [
    {
     "name": "stdout",
     "output_type": "stream",
     "text": [
      "Lucas\n"
     ]
    }
   ],
   "source": [
    "print (\"Lucas\")\n",
    "print (\"Segunda linha de codigo\")"
   ]
  },
  {
   "cell_type": "code",
   "execution_count": 2,
   "id": "8fd41824",
   "metadata": {},
   "outputs": [
    {
     "name": "stdout",
     "output_type": "stream",
     "text": [
      "Hastag Programação\n"
     ]
    }
   ],
   "source": [
    "print(\"Hastag Programação\")"
   ]
  }
 ],
 "metadata": {
  "kernelspec": {
   "display_name": "Python 3 (ipykernel)",
   "language": "python",
   "name": "python3"
  },
  "language_info": {
   "codemirror_mode": {
    "name": "ipython",
    "version": 3
   },
   "file_extension": ".py",
   "mimetype": "text/x-python",
   "name": "python",
   "nbconvert_exporter": "python",
   "pygments_lexer": "ipython3",
   "version": "3.9.7"
  }
 },
 "nbformat": 4,
 "nbformat_minor": 5
}
